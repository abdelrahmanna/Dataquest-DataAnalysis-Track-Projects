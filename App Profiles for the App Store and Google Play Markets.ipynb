{
 "cells": [
  {
   "cell_type": "markdown",
   "metadata": {},
   "source": [
    "# Profitability Analysis For Company's Apps on App Store And Play Stor"
   ]
  },
  {
   "cell_type": "markdown",
   "metadata": {},
   "source": [
    "The Aime of this study is to gain a common sence upone which type of Apps are the most profitable in the app store and the play store, and introduce it in a way can help the develobers team at our company make decsion about the kind of apps they will make in the future"
   ]
  },
  {
   "cell_type": "markdown",
   "metadata": {},
   "source": [
    "# Exploring The Data"
   ]
  },
  {
   "cell_type": "markdown",
   "metadata": {},
   "source": [
    "Our data consist of two data sets:\n",
    "\n",
    "- [Play Store Data-Set](https://www.kaggle.com/lava18/google-play-store-apps/home)\n",
    "- [App Store Data-Set](https://www.kaggle.com/ramamet4/app-store-apple-data-set-10k-apps)\n",
    "\n",
    "Let's open and explore these data"
   ]
  },
  {
   "cell_type": "code",
   "execution_count": 1,
   "metadata": {
    "collapsed": false
   },
   "outputs": [],
   "source": [
    "from csv import reader\n",
    "\n",
    "#opening the appStore data\n",
    "appleStoreFile = open('AppleStore.csv', 'r')\n",
    "appStoreData = list(reader(appleStoreFile))\n",
    "iosHeader = appStoreData[0]\n",
    "iosData = appStoreData[1:]\n",
    "\n",
    "#opening the play storedata\n",
    "googlePlaystoreFile = open('googleplaystore.csv','r')\n",
    "playStoreData = list(reader(googlePlaystoreFile))\n",
    "\n",
    "androidHeader = playStoreData[0]\n",
    "androidData = playStoreData[1:]"
   ]
  },
  {
   "cell_type": "markdown",
   "metadata": {},
   "source": [
    "To make thing esier we define a function that prints data rows in a somehow readable way"
   ]
  },
  {
   "cell_type": "code",
   "execution_count": 2,
   "metadata": {
    "collapsed": true
   },
   "outputs": [],
   "source": [
    "#defining the exploring function\n",
    "def explore_data(dataset, start, end, rows_and_columns=False):\n",
    "    dataset_slice = dataset[start:end]    \n",
    "    for row in dataset_slice:\n",
    "        print(row)\n",
    "        print('\\n')\n",
    "\n",
    "    if rows_and_columns:\n",
    "        print('Number of rows:', len(dataset))\n",
    "        print('Number of columns:', len(dataset[0]))"
   ]
  },
  {
   "cell_type": "markdown",
   "metadata": {},
   "source": [
    "now we can view some rows of our data-sets"
   ]
  },
  {
   "cell_type": "code",
   "execution_count": 3,
   "metadata": {
    "collapsed": false
   },
   "outputs": [
    {
     "name": "stdout",
     "output_type": "stream",
     "text": [
      "['284882215', 'Facebook', '389879808', 'USD', '0.0', '2974676', '212', '3.5', '3.5', '95.0', '4+', 'Social Networking', '37', '1', '29', '1']\n",
      "\n",
      "\n",
      "['389801252', 'Instagram', '113954816', 'USD', '0.0', '2161558', '1289', '4.5', '4.0', '10.23', '12+', 'Photo & Video', '37', '0', '29', '1']\n",
      "\n",
      "\n",
      "['529479190', 'Clash of Clans', '116476928', 'USD', '0.0', '2130805', '579', '4.5', '4.5', '9.24.12', '9+', 'Games', '38', '5', '18', '1']\n",
      "\n",
      "\n",
      "['420009108', 'Temple Run', '65921024', 'USD', '0.0', '1724546', '3842', '4.5', '4.0', '1.6.2', '9+', 'Games', '40', '5', '1', '1']\n",
      "\n",
      "\n",
      "['284035177', 'Pandora - Music & Radio', '130242560', 'USD', '0.0', '1126879', '3594', '4.0', '4.5', '8.4.1', '12+', 'Music', '37', '4', '1', '1']\n",
      "\n",
      "\n",
      "Number of rows: 7197\n",
      "Number of columns: 16\n",
      "\n",
      "['Photo Editor & Candy Camera & Grid & ScrapBook', 'ART_AND_DESIGN', '4.1', '159', '19M', '10,000+', 'Free', '0', 'Everyone', 'Art & Design', 'January 7, 2018', '1.0.0', '4.0.3 and up']\n",
      "\n",
      "\n",
      "['Coloring book moana', 'ART_AND_DESIGN', '3.9', '967', '14M', '500,000+', 'Free', '0', 'Everyone', 'Art & Design;Pretend Play', 'January 15, 2018', '2.0.0', '4.0.3 and up']\n",
      "\n",
      "\n",
      "['U Launcher Lite – FREE Live Cool Themes, Hide Apps', 'ART_AND_DESIGN', '4.7', '87510', '8.7M', '5,000,000+', 'Free', '0', 'Everyone', 'Art & Design', 'August 1, 2018', '1.2.4', '4.0.3 and up']\n",
      "\n",
      "\n",
      "['Sketch - Draw & Paint', 'ART_AND_DESIGN', '4.5', '215644', '25M', '50,000,000+', 'Free', '0', 'Teen', 'Art & Design', 'June 8, 2018', 'Varies with device', '4.2 and up']\n",
      "\n",
      "\n",
      "['Pixel Draw - Number Art Coloring Book', 'ART_AND_DESIGN', '4.3', '967', '2.8M', '100,000+', 'Free', '0', 'Everyone', 'Art & Design;Creativity', 'June 20, 2018', '1.1', '4.4 and up']\n",
      "\n",
      "\n",
      "Number of rows: 10841\n",
      "Number of columns: 13\n"
     ]
    }
   ],
   "source": [
    "explore_data(iosData,0,5, True)\n",
    "print()\n",
    "explore_data(androidData, 0, 5,True)"
   ]
  },
  {
   "cell_type": "markdown",
   "metadata": {},
   "source": [
    "** notice**: the header is not incloded as it was seperated earlier. \n",
    "Let's take a look at them"
   ]
  },
  {
   "cell_type": "code",
   "execution_count": 4,
   "metadata": {
    "collapsed": false
   },
   "outputs": [
    {
     "name": "stdout",
     "output_type": "stream",
     "text": [
      "['id', 'track_name', 'size_bytes', 'currency', 'price', 'rating_count_tot', 'rating_count_ver', 'user_rating', 'user_rating_ver', 'ver', 'cont_rating', 'prime_genre', 'sup_devices.num', 'ipadSc_urls.num', 'lang.num', 'vpp_lic']\n",
      "\n",
      "['App', 'Category', 'Rating', 'Reviews', 'Size', 'Installs', 'Type', 'Price', 'Content Rating', 'Genres', 'Last Updated', 'Current Ver', 'Android Ver']\n"
     ]
    }
   ],
   "source": [
    "print(iosHeader)\n",
    "print()\n",
    "print(androidHeader)"
   ]
  },
  {
   "cell_type": "markdown",
   "metadata": {},
   "source": [
    "Before we go any furture, we are going to work with each data-set sepretly. Now we are going to start with the Play Store Data-Set"
   ]
  },
  {
   "cell_type": "markdown",
   "metadata": {},
   "source": [
    "# Detecting Wrong Data\n",
    "we can see in [The Discussion](https://www.kaggle.com/lava18/google-play-store-apps/discussion/66015) on the source of our data set that the row # 10472 has wrong data so we are going to delete it."
   ]
  },
  {
   "cell_type": "code",
   "execution_count": 5,
   "metadata": {
    "collapsed": false
   },
   "outputs": [
    {
     "name": "stdout",
     "output_type": "stream",
     "text": [
      "['Life Made WI-Fi Touchscreen Photo Frame', '1.9', '19', '3.0M', '1,000+', 'Free', '0', 'Everyone', '', 'February 11, 2018', '1.0.19', '4.0 and up'] 12\n"
     ]
    }
   ],
   "source": [
    "print(androidData[10472], len(androidData[10472]))\n",
    "del androidData[10472]"
   ]
  },
  {
   "cell_type": "markdown",
   "metadata": {},
   "source": [
    "# Duplicate Rows\n",
    "Duplicate data is one of the common errors we can find in a data-set. we're going to first check if our date set contain duplicate rows.\n",
    "### Cecking For Duplication\n",
    "If searched for the rows where the app name is ``Instagram`` we can see that we have multible rows for the same app. "
   ]
  },
  {
   "cell_type": "code",
   "execution_count": 6,
   "metadata": {
    "collapsed": false
   },
   "outputs": [
    {
     "name": "stdout",
     "output_type": "stream",
     "text": [
      "['Instagram', 'SOCIAL', '4.5', '66577313', 'Varies with device', '1,000,000,000+', 'Free', '0', 'Teen', 'Social', 'July 31, 2018', 'Varies with device', 'Varies with device']\n",
      "\n",
      "['Instagram', 'SOCIAL', '4.5', '66577446', 'Varies with device', '1,000,000,000+', 'Free', '0', 'Teen', 'Social', 'July 31, 2018', 'Varies with device', 'Varies with device']\n",
      "\n",
      "['Instagram', 'SOCIAL', '4.5', '66577313', 'Varies with device', '1,000,000,000+', 'Free', '0', 'Teen', 'Social', 'July 31, 2018', 'Varies with device', 'Varies with device']\n",
      "\n",
      "['Instagram', 'SOCIAL', '4.5', '66509917', 'Varies with device', '1,000,000,000+', 'Free', '0', 'Teen', 'Social', 'July 31, 2018', 'Varies with device', 'Varies with device']\n",
      "\n"
     ]
    }
   ],
   "source": [
    "for row in playStoreData:\n",
    "    name = row[0]\n",
    "    if name == 'Instagram':\n",
    "        print(row)\n",
    "        print()"
   ]
  },
  {
   "cell_type": "markdown",
   "metadata": {},
   "source": [
    "Now the question is: are there other duplicates in our data?and if there are what are they? so let's answer this question."
   ]
  },
  {
   "cell_type": "code",
   "execution_count": 7,
   "metadata": {
    "collapsed": false
   },
   "outputs": [
    {
     "name": "stdout",
     "output_type": "stream",
     "text": [
      "number of duplicate apps: 1181\n",
      "\n",
      "example of duplicate apps: ['Quick PDF Scanner + OCR FREE', 'Box', 'Google My Business', 'ZOOM Cloud Meetings', 'join.me - Simple Meetings', 'Box', 'Zenefits', 'Google Ads', 'Google My Business', 'Slack']\n",
      "\n"
     ]
    }
   ],
   "source": [
    "def findDup(dataset):\n",
    "    dup_apps = []\n",
    "    unq_apps = [] \n",
    "\n",
    "    for row in dataset:\n",
    "        name = row[0]\n",
    "        if name in unq_apps:\n",
    "            dup_apps.append(name)\n",
    "        else:\n",
    "            unq_apps.append(name)\n",
    "    return dup_apps\n",
    "dup_apps = findDup(androidData)\n",
    "print('number of duplicate apps:', len(dup_apps))\n",
    "print()\n",
    "print('example of duplicate apps:', dup_apps[:10])\n",
    "print()"
   ]
  },
  {
   "cell_type": "markdown",
   "metadata": {},
   "source": [
    "as we find a lot of dublicate rows in our data so we're going to the next part of this process, deleting duplicate rows.\n",
    "### Deleting Duplicate Rows\n",
    "As you may have noticed that the rows are not totaly the same, if you look at the fourth column in the ``Instagram`` rows you can see the difference. So we are going to keep the rows with the maximum fourth row value."
   ]
  },
  {
   "cell_type": "code",
   "execution_count": 8,
   "metadata": {
    "collapsed": false
   },
   "outputs": [
    {
     "name": "stdout",
     "output_type": "stream",
     "text": [
      "expected length: 9659\n",
      "the length after removing 9659\n",
      "\n",
      "['Photo Editor & Candy Camera & Grid & ScrapBook', 'ART_AND_DESIGN', '4.1', '159', '19M', '10,000+', 'Free', '0', 'Everyone', 'Art & Design', 'January 7, 2018', '1.0.0', '4.0.3 and up']\n",
      "\n",
      "\n",
      "['U Launcher Lite – FREE Live Cool Themes, Hide Apps', 'ART_AND_DESIGN', '4.7', '87510', '8.7M', '5,000,000+', 'Free', '0', 'Everyone', 'Art & Design', 'August 1, 2018', '1.2.4', '4.0.3 and up']\n",
      "\n",
      "\n",
      "['Sketch - Draw & Paint', 'ART_AND_DESIGN', '4.5', '215644', '25M', '50,000,000+', 'Free', '0', 'Teen', 'Art & Design', 'June 8, 2018', 'Varies with device', '4.2 and up']\n",
      "\n",
      "\n",
      "['Pixel Draw - Number Art Coloring Book', 'ART_AND_DESIGN', '4.3', '967', '2.8M', '100,000+', 'Free', '0', 'Everyone', 'Art & Design;Creativity', 'June 20, 2018', '1.1', '4.4 and up']\n",
      "\n",
      "\n",
      "['Paper flowers instructions', 'ART_AND_DESIGN', '4.4', '167', '5.6M', '50,000+', 'Free', '0', 'Everyone', 'Art & Design', 'March 26, 2017', '1.0', '2.3 and up']\n",
      "\n",
      "\n",
      "Number of rows: 9659\n",
      "Number of columns: 13\n"
     ]
    }
   ],
   "source": [
    "print('expected length:', len(androidData) - len(dup_apps))\n",
    "max_review = {}\n",
    "\n",
    "for row in androidData:\n",
    "    name = row[0]\n",
    "    review = row[3]\n",
    "    if name in max_review:\n",
    "        if max_review[name] < review:\n",
    "            max_review[name] = review\n",
    "    else:\n",
    "        max_review[name] = review\n",
    "        \n",
    "\n",
    "androidClean = []\n",
    "added = []\n",
    "\n",
    "for row in androidData:\n",
    "    name = row[0]\n",
    "    review = row[3]\n",
    "    if max_review[name] == review and name not in added:\n",
    "        androidClean.append(row)\n",
    "        added.append(name)\n",
    "print('the length after removing', len(androidClean))\n",
    "print()\n",
    "explore_data(androidClean,0,5, True)"
   ]
  },
  {
   "cell_type": "markdown",
   "metadata": {
    "collapsed": true
   },
   "source": [
    "What we've done in the previous code is creading a dictionary with the apps' name and the value is the maximum of the reviews column(4-th column) in the data-set and then we taka all the rows in which the app name have the maximum review value."
   ]
  },
  {
   "cell_type": "markdown",
   "metadata": {},
   "source": [
    "Finally, we need to remove all the not free and not English apps as our company only works with English and free apps\n",
    "\n",
    "# Removing Non-Englis Apps\n",
    "after exploring the data we can see that both data-sets contain some non-English apps"
   ]
  },
  {
   "cell_type": "code",
   "execution_count": 17,
   "metadata": {
    "collapsed": false
   },
   "outputs": [
    {
     "name": "stdout",
     "output_type": "stream",
     "text": [
      "爱奇艺PPS -《欢乐颂2》电视剧热播\n",
      "中国語 AQリスニング\n",
      "لعبة تقدر تربح DZ\n"
     ]
    }
   ],
   "source": [
    "print(iosData[813][1])\n",
    "\n",
    "print(androidClean[4415][0])\n",
    "print(androidClean[7941][0])"
   ]
  },
  {
   "cell_type": "markdown",
   "metadata": {},
   "source": [
    "Ok, so now what we are looking for are apps which their names consists of English alphapet, digits, punctuation symbols, *,-,+,/, and/or emojies."
   ]
  },
  {
   "cell_type": "code",
   "execution_count": 10,
   "metadata": {
    "collapsed": false
   },
   "outputs": [
    {
     "name": "stdout",
     "output_type": "stream",
     "text": [
      "False\n",
      "True\n"
     ]
    }
   ],
   "source": [
    "def isEnglish(s):\n",
    "    nonasciiCount = 0\n",
    "    for i in s:\n",
    "        if ord(i) > 127:\n",
    "            nonasciiCount += 1\n",
    "        if nonasciiCount> 3:\n",
    "            return False\n",
    "    \n",
    "    else:\n",
    "        return True\n",
    "print(isEnglish('爱奇艺PPS -《欢乐颂2》电视剧热播'))\n",
    "print(isEnglish('Instachat 😜'))"
   ]
  },
  {
   "cell_type": "markdown",
   "metadata": {},
   "source": [
    "Now we are going to use the ``isEnglish`` function to remove our nonEnglish apps in the data sets"
   ]
  },
  {
   "cell_type": "code",
   "execution_count": 18,
   "metadata": {
    "collapsed": true
   },
   "outputs": [],
   "source": [
    "iosEnglish = []\n",
    "androidEnglish = []\n",
    "\n",
    "for row in androidClean:\n",
    "    name = row[0]\n",
    "    if isEnglish(name):\n",
    "        androidEnglish.append(row)\n",
    "\n",
    "for row in iosData:\n",
    "    name = row[1]\n",
    "    if isEnglish(name):\n",
    "        iosEnglish.append(row)"
   ]
  },
  {
   "cell_type": "code",
   "execution_count": 19,
   "metadata": {
    "collapsed": false
   },
   "outputs": [
    {
     "name": "stdout",
     "output_type": "stream",
     "text": [
      "ios, length befor 7197 length after 6183\n",
      "android, length befor 9659 length after 9614\n"
     ]
    }
   ],
   "source": [
    "print('ios, length befor',len(iosData), 'length after', len(iosEnglish))\n",
    "\n",
    "print('android, length befor',len(androidClean),\n",
    "      'length after', len(androidEnglish))"
   ]
  },
  {
   "cell_type": "markdown",
   "metadata": {},
   "source": [
    "Now we've reached the final part of our cleaning which is removing the free apps.\n",
    "# Removing Free Apps"
   ]
  },
  {
   "cell_type": "code",
   "execution_count": 20,
   "metadata": {
    "collapsed": false
   },
   "outputs": [
    {
     "name": "stdout",
     "output_type": "stream",
     "text": [
      "2961 752\n"
     ]
    }
   ],
   "source": [
    "def getFreeApps(dataset, index,val):\n",
    "    freeApps = []\n",
    "    for i in dataset:\n",
    "        price = i[index]\n",
    "        if price != val:\n",
    "            freeApps.append(i)\n",
    "    return freeApps\n",
    "\n",
    "iosFinal = getFreeApps(iosEnglish, 4, '0.0')\n",
    "androidFinal = getFreeApps(androidEnglish, 7,'0')\n",
    "print(len(iosFinal), len(androidFinal))"
   ]
  },
  {
   "cell_type": "code",
   "execution_count": null,
   "metadata": {
    "collapsed": true
   },
   "outputs": [],
   "source": []
  }
 ],
 "metadata": {
  "kernelspec": {
   "display_name": "Python 3",
   "language": "python",
   "name": "python3"
  },
  "language_info": {
   "codemirror_mode": {
    "name": "ipython",
    "version": 3
   },
   "file_extension": ".py",
   "mimetype": "text/x-python",
   "name": "python",
   "nbconvert_exporter": "python",
   "pygments_lexer": "ipython3",
   "version": "3.4.3"
  }
 },
 "nbformat": 4,
 "nbformat_minor": 2
}
